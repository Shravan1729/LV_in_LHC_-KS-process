{
 "cells": [
  {
   "cell_type": "code",
   "execution_count": null,
   "id": "1a47a75d-3c64-4e2c-9ceb-e9bc970590ae",
   "metadata": {},
   "outputs": [],
   "source": []
  }
 ],
 "metadata": {
  "kernelspec": {
   "display_name": "",
   "name": ""
  },
  "language_info": {
   "name": ""
  }
 },
 "nbformat": 4,
 "nbformat_minor": 5
}
